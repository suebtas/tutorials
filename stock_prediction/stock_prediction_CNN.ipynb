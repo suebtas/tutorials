{
  "nbformat": 4,
  "nbformat_minor": 0,
  "metadata": {
    "accelerator": "GPU",
    "colab": {
      "name": "6) Stock forecast-CNN.ipynb",
      "provenance": []
    },
    "kernelspec": {
      "display_name": "Python 3",
      "language": "python",
      "name": "python3"
    },
    "language_info": {
      "codemirror_mode": {
        "name": "ipython",
        "version": 3
      },
      "file_extension": ".py",
      "mimetype": "text/x-python",
      "name": "python",
      "nbconvert_exporter": "python",
      "pygments_lexer": "ipython3",
      "version": "3.5.2"
    }
  },
  "cells": [
    {
      "cell_type": "markdown",
      "metadata": {
        "id": "yDmcV5rvcTNb",
        "colab_type": "text"
      },
      "source": [
        "# Stock Prediction using CNN\n",
        "\n",
        "**Prerequisite**\n",
        "```!pip install pandas_datareader --user```"
      ]
    },
    {
      "cell_type": "code",
      "metadata": {
        "id": "lhWGJqwVcTNc",
        "colab_type": "code",
        "colab": {
          "base_uri": "https://localhost:8080/",
          "height": 71
        },
        "outputId": "fdeb7f4e-063d-49dd-a1d7-5c6ba2881a51"
      },
      "source": [
        "import sys\n",
        "import pandas as pd\n",
        "pd.core.common.is_list_like = pd.api.types.is_list_like\n",
        "\n",
        "from pandas_datareader import data as pdr\n",
        "from tqdm import tqdm,trange"
      ],
      "execution_count": 1,
      "outputs": [
        {
          "output_type": "stream",
          "text": [
            "/usr/local/lib/python3.6/dist-packages/pandas_datareader/compat/__init__.py:7: FutureWarning: pandas.util.testing is deprecated. Use the functions in the public API at pandas.testing instead.\n",
            "  from pandas.util.testing import assert_frame_equal\n"
          ],
          "name": "stderr"
        }
      ]
    },
    {
      "cell_type": "code",
      "metadata": {
        "colab_type": "code",
        "id": "9uLP2S6lgaeU",
        "colab": {}
      },
      "source": [
        "stock_list = ['KBANK','SCB','BBL','KTB','AOT','BEAUTY']"
      ],
      "execution_count": 0,
      "outputs": []
    },
    {
      "cell_type": "code",
      "metadata": {
        "colab_type": "code",
        "id": "tygn4cVTgqYF",
        "outputId": "a7179e6e-4db1-4ef0-c270-643213f190ce",
        "scrolled": false,
        "colab": {
          "base_uri": "https://localhost:8080/",
          "height": 34
        }
      },
      "source": [
        "stock_data = []\n",
        "stock_name = []\n",
        "for quote in tqdm(stock_list):\n",
        "    try:\n",
        "        stock_data.append(pdr.get_data_yahoo('{}.BK'.format(quote), start='2010-01-01', end='2018-11-30'))\n",
        "        stock_name.append(quote)\n",
        "    except:\n",
        "        print(\"Error:\", sys.exc_info()[0])\n",
        "        print(\"Description:\", sys.exc_info()[1])"
      ],
      "execution_count": 3,
      "outputs": [
        {
          "output_type": "stream",
          "text": [
            "100%|██████████| 6/6 [00:04<00:00,  1.27it/s]\n"
          ],
          "name": "stderr"
        }
      ]
    },
    {
      "cell_type": "code",
      "metadata": {
        "colab_type": "code",
        "id": "cs2cHDXng4sa",
        "outputId": "aea01635-01fb-4263-9c64-00157d12d1c5",
        "colab": {
          "base_uri": "https://localhost:8080/",
          "height": 34
        }
      },
      "source": [
        "from keras.models import Sequential\n",
        "from keras.layers.core import Dense, Dropout, Activation, Flatten\n",
        "from keras.layers.recurrent import LSTM, GRU\n",
        "from keras.layers import Convolution1D, MaxPooling1D, AtrousConvolution1D, RepeatVector\n",
        "from keras.callbacks import ModelCheckpoint, ReduceLROnPlateau, CSVLogger\n",
        "from keras.layers.wrappers import Bidirectional\n",
        "from keras import regularizers\n",
        "from keras.layers.normalization import BatchNormalization\n",
        "from keras.layers.advanced_activations import *\n",
        "from keras.optimizers import RMSprop, Adam, SGD, Nadam\n",
        "from keras.initializers import *"
      ],
      "execution_count": 4,
      "outputs": [
        {
          "output_type": "stream",
          "text": [
            "Using TensorFlow backend.\n"
          ],
          "name": "stderr"
        }
      ]
    },
    {
      "cell_type": "code",
      "metadata": {
        "colab_type": "code",
        "id": "hxqFgK7oh4uU",
        "colab": {}
      },
      "source": [
        "def create_Xt_Yt(X, y, percentage=0.9):\n",
        "    p = int(len(X) * percentage)\n",
        "    X_train = X[0:p]\n",
        "    Y_train = Y[0:p]\n",
        "     \n",
        "    X_train, Y_train = shuffle_in_unison(X_train, Y_train)\n",
        " \n",
        "    X_test = X[p:]\n",
        "    Y_test = y[p:]\n",
        "\n",
        "    return X_train, X_test, Y_train, Y_test\n",
        "  \n",
        "def shuffle_in_unison(a, b):\n",
        "    # courtsey http://stackoverflow.com/users/190280/josh-bleecher-snyder\n",
        "    assert len(a) == len(b)\n",
        "    shuffled_a = np.empty(a.shape, dtype=a.dtype)\n",
        "    shuffled_b = np.empty(b.shape, dtype=b.dtype)\n",
        "    permutation = np.random.permutation(len(a))\n",
        "    for old_index, new_index in enumerate(permutation):\n",
        "        shuffled_a[new_index] = a[old_index]\n",
        "        shuffled_b[new_index] = b[old_index]\n",
        "    return shuffled_a, shuffled_b"
      ],
      "execution_count": 0,
      "outputs": []
    },
    {
      "cell_type": "code",
      "metadata": {
        "id": "lWxAUZMOdhXH",
        "colab_type": "code",
        "colab": {
          "base_uri": "https://localhost:8080/",
          "height": 235
        },
        "outputId": "a19c9dfd-b3b4-4869-f769-e6fc84c8bf71"
      },
      "source": [
        "stock_data[0].head()"
      ],
      "execution_count": 14,
      "outputs": [
        {
          "output_type": "execute_result",
          "data": {
            "text/html": [
              "<div>\n",
              "<style scoped>\n",
              "    .dataframe tbody tr th:only-of-type {\n",
              "        vertical-align: middle;\n",
              "    }\n",
              "\n",
              "    .dataframe tbody tr th {\n",
              "        vertical-align: top;\n",
              "    }\n",
              "\n",
              "    .dataframe thead th {\n",
              "        text-align: right;\n",
              "    }\n",
              "</style>\n",
              "<table border=\"1\" class=\"dataframe\">\n",
              "  <thead>\n",
              "    <tr style=\"text-align: right;\">\n",
              "      <th></th>\n",
              "      <th>High</th>\n",
              "      <th>Low</th>\n",
              "      <th>Open</th>\n",
              "      <th>Close</th>\n",
              "      <th>Volume</th>\n",
              "      <th>Adj Close</th>\n",
              "    </tr>\n",
              "    <tr>\n",
              "      <th>Date</th>\n",
              "      <th></th>\n",
              "      <th></th>\n",
              "      <th></th>\n",
              "      <th></th>\n",
              "      <th></th>\n",
              "      <th></th>\n",
              "    </tr>\n",
              "  </thead>\n",
              "  <tbody>\n",
              "    <tr>\n",
              "      <th>2010-01-04</th>\n",
              "      <td>85.50</td>\n",
              "      <td>84.00</td>\n",
              "      <td>85.25</td>\n",
              "      <td>84.50</td>\n",
              "      <td>2410100.0</td>\n",
              "      <td>66.080788</td>\n",
              "    </tr>\n",
              "    <tr>\n",
              "      <th>2010-01-05</th>\n",
              "      <td>85.25</td>\n",
              "      <td>84.25</td>\n",
              "      <td>85.00</td>\n",
              "      <td>84.50</td>\n",
              "      <td>4058600.0</td>\n",
              "      <td>66.080788</td>\n",
              "    </tr>\n",
              "    <tr>\n",
              "      <th>2010-01-06</th>\n",
              "      <td>86.00</td>\n",
              "      <td>84.75</td>\n",
              "      <td>85.00</td>\n",
              "      <td>85.75</td>\n",
              "      <td>9900800.0</td>\n",
              "      <td>67.058311</td>\n",
              "    </tr>\n",
              "    <tr>\n",
              "      <th>2010-01-07</th>\n",
              "      <td>87.75</td>\n",
              "      <td>86.25</td>\n",
              "      <td>86.50</td>\n",
              "      <td>86.75</td>\n",
              "      <td>13073500.0</td>\n",
              "      <td>67.840332</td>\n",
              "    </tr>\n",
              "    <tr>\n",
              "      <th>2010-01-08</th>\n",
              "      <td>88.25</td>\n",
              "      <td>86.75</td>\n",
              "      <td>87.50</td>\n",
              "      <td>88.00</td>\n",
              "      <td>10187600.0</td>\n",
              "      <td>68.817856</td>\n",
              "    </tr>\n",
              "  </tbody>\n",
              "</table>\n",
              "</div>"
            ],
            "text/plain": [
              "             High    Low   Open  Close      Volume  Adj Close\n",
              "Date                                                         \n",
              "2010-01-04  85.50  84.00  85.25  84.50   2410100.0  66.080788\n",
              "2010-01-05  85.25  84.25  85.00  84.50   4058600.0  66.080788\n",
              "2010-01-06  86.00  84.75  85.00  85.75   9900800.0  67.058311\n",
              "2010-01-07  87.75  86.25  86.50  86.75  13073500.0  67.840332\n",
              "2010-01-08  88.25  86.75  87.50  88.00  10187600.0  68.817856"
            ]
          },
          "metadata": {
            "tags": []
          },
          "execution_count": 14
        }
      ]
    },
    {
      "cell_type": "code",
      "metadata": {
        "colab_type": "code",
        "id": "UjT_I00qhIf1",
        "outputId": "c8160e3b-c657-4946-a3fc-1fac4e9cbc3b",
        "scrolled": false,
        "colab": {
          "base_uri": "https://localhost:8080/",
          "height": 1000
        }
      },
      "source": [
        "data_original = stock_data[0]\n",
        "\n",
        "openp = data_original['Open'].tolist()\n",
        "highp = data_original['High'].tolist()\n",
        "lowp = data_original['Low'].tolist()\n",
        "closep = data_original['Adj Close'].tolist()\n",
        "volumep = data_original['Volume'].tolist()\n",
        "\n",
        "# data_chng = data_original.ix[:, 'Adj Close'].pct_change().dropna().tolist()\n",
        "\n",
        "WINDOW = 10\n",
        "EMB_SIZE = 5\n",
        "STEP = 1\n",
        "FORECAST = 1\n",
        "\n",
        "X, Y = [], []\n",
        "for i in range(0, len(data_original), STEP): \n",
        "    try:\n",
        "        o = openp[i:i+WINDOW]\n",
        "        h = highp[i:i+WINDOW]\n",
        "        l = lowp[i:i+WINDOW]\n",
        "        c = closep[i:i+WINDOW]\n",
        "        v = volumep[i:i+WINDOW]\n",
        "\n",
        "        o = (np.array(o) - np.mean(o)) / np.std(o)\n",
        "        h = (np.array(h) - np.mean(h)) / np.std(h)\n",
        "        l = (np.array(l) - np.mean(l)) / np.std(l)\n",
        "        c = (np.array(c) - np.mean(c)) / np.std(c)\n",
        "        v = (np.array(v) - np.mean(v)) / np.std(v)\n",
        "\n",
        "#         x_i = closep[i:i+WINDOW]\n",
        "        y_i = closep[i+WINDOW+FORECAST]  \n",
        "\n",
        "#         next_close = y_i\n",
        "\n",
        "#         if last_close < next_close:\n",
        "#             y_i = [1, 0]\n",
        "#         else:\n",
        "#             y_i = [0, 1] \n",
        "\n",
        "        x_i = np.column_stack((o, h, l, c, v))\n",
        "\n",
        "    except Exception as e:\n",
        "        break\n",
        "\n",
        "    X.append(x_i)\n",
        "    Y.append(y_i)\n",
        "\n",
        "X, Y = np.array(X), np.array(Y)\n",
        "X_train, X_test, Y_train, Y_test = create_Xt_Yt(X, Y)\n",
        "\n",
        "X_train = np.reshape(X_train, (X_train.shape[0], X_train.shape[1], EMB_SIZE))\n",
        "X_test = np.reshape(X_test, (X_test.shape[0], X_test.shape[1], EMB_SIZE))\n",
        "\n",
        "\n",
        "model = Sequential()\n",
        "model.add(Convolution1D(input_shape = (WINDOW, EMB_SIZE),\n",
        "                        nb_filter=16,\n",
        "                        filter_length=4,\n",
        "                        border_mode='same'))\n",
        "model.add(BatchNormalization())\n",
        "model.add(LeakyReLU())\n",
        "model.add(Dropout(0.5))\n",
        "\n",
        "model.add(Convolution1D(nb_filter=8,\n",
        "                        filter_length=4,\n",
        "                        border_mode='same'))\n",
        "model.add(BatchNormalization())\n",
        "model.add(LeakyReLU())\n",
        "model.add(Dropout(0.5))\n",
        "\n",
        "model.add(Flatten())\n",
        "\n",
        "model.add(Dense(64))\n",
        "model.add(BatchNormalization())\n",
        "model.add(LeakyReLU())\n",
        "\n",
        "\n",
        "model.add(Dense(1))\n",
        "# model.add(Activation('softmax'))\n",
        "\n",
        "opt = Nadam(lr=0.002)\n",
        "\n",
        "reduce_lr = ReduceLROnPlateau(monitor='val_acc', factor=0.9, patience=30, min_lr=0.000001, verbose=1)\n",
        "# checkpointer = ModelCheckpoint(filepath=\"lolkek.hdf5\", verbose=1, save_best_only=True)\n",
        "\n",
        "\n",
        "model.compile(optimizer=opt, \n",
        "              loss='mse',\n",
        "              metrics=['mse'])\n",
        "\n",
        "model.fit(X_train,Y_train,epochs=150,verbose=1)\n",
        "pred = model.predict(np.array(X_test))"
      ],
      "execution_count": 18,
      "outputs": [
        {
          "output_type": "stream",
          "text": [
            "/usr/local/lib/python3.6/dist-packages/ipykernel_launcher.py:60: UserWarning: Update your `Conv1D` call to the Keras 2 API: `Conv1D(input_shape=(10, 5), filters=16, kernel_size=4, padding=\"same\")`\n",
            "/usr/local/lib/python3.6/dist-packages/ipykernel_launcher.py:67: UserWarning: Update your `Conv1D` call to the Keras 2 API: `Conv1D(filters=8, kernel_size=4, padding=\"same\")`\n"
          ],
          "name": "stderr"
        },
        {
          "output_type": "stream",
          "text": [
            "Epoch 1/150\n",
            "1951/1951 [==============================] - 8s 4ms/step - loss: 21947.9936 - mse: 21947.9961\n",
            "Epoch 2/150\n",
            "1951/1951 [==============================] - 0s 234us/step - loss: 20562.9851 - mse: 20562.9844\n",
            "Epoch 3/150\n",
            "1951/1951 [==============================] - 0s 225us/step - loss: 18443.4881 - mse: 18443.4863\n",
            "Epoch 4/150\n",
            "1951/1951 [==============================] - 0s 221us/step - loss: 15579.4836 - mse: 15579.4834\n",
            "Epoch 5/150\n",
            "1951/1951 [==============================] - 0s 222us/step - loss: 12230.5648 - mse: 12230.5625\n",
            "Epoch 6/150\n",
            "1951/1951 [==============================] - 0s 225us/step - loss: 8864.8787 - mse: 8864.8799\n",
            "Epoch 7/150\n",
            "1951/1951 [==============================] - 0s 234us/step - loss: 6011.3457 - mse: 6011.3442\n",
            "Epoch 8/150\n",
            "1951/1951 [==============================] - 0s 227us/step - loss: 3878.2543 - mse: 3878.2542\n",
            "Epoch 9/150\n",
            "1951/1951 [==============================] - 0s 222us/step - loss: 2582.8424 - mse: 2582.8423\n",
            "Epoch 10/150\n",
            "1951/1951 [==============================] - 0s 218us/step - loss: 1910.0579 - mse: 1910.0577\n",
            "Epoch 11/150\n",
            "1951/1951 [==============================] - 0s 223us/step - loss: 1650.5743 - mse: 1650.5741\n",
            "Epoch 12/150\n",
            "1951/1951 [==============================] - 0s 220us/step - loss: 1537.0311 - mse: 1537.0311\n",
            "Epoch 13/150\n",
            "1951/1951 [==============================] - 0s 232us/step - loss: 1542.9992 - mse: 1542.9993\n",
            "Epoch 14/150\n",
            "1951/1951 [==============================] - 0s 237us/step - loss: 1504.3790 - mse: 1504.3789\n",
            "Epoch 15/150\n",
            "1951/1951 [==============================] - 0s 223us/step - loss: 1498.8998 - mse: 1498.8997\n",
            "Epoch 16/150\n",
            "1951/1951 [==============================] - 0s 222us/step - loss: 1503.9381 - mse: 1503.9381\n",
            "Epoch 17/150\n",
            "1951/1951 [==============================] - 0s 215us/step - loss: 1485.3671 - mse: 1485.3671\n",
            "Epoch 18/150\n",
            "1951/1951 [==============================] - 0s 225us/step - loss: 1498.8406 - mse: 1498.8406\n",
            "Epoch 19/150\n",
            "1951/1951 [==============================] - 0s 219us/step - loss: 1464.0504 - mse: 1464.0508\n",
            "Epoch 20/150\n",
            "1951/1951 [==============================] - 0s 227us/step - loss: 1470.1898 - mse: 1470.1893\n",
            "Epoch 21/150\n",
            "1951/1951 [==============================] - 0s 220us/step - loss: 1474.5265 - mse: 1474.5265\n",
            "Epoch 22/150\n",
            "1951/1951 [==============================] - 0s 220us/step - loss: 1473.0259 - mse: 1473.0260\n",
            "Epoch 23/150\n",
            "1951/1951 [==============================] - 0s 218us/step - loss: 1471.3026 - mse: 1471.3025\n",
            "Epoch 24/150\n",
            "1951/1951 [==============================] - 0s 220us/step - loss: 1481.3279 - mse: 1481.3280\n",
            "Epoch 25/150\n",
            "1951/1951 [==============================] - 0s 224us/step - loss: 1457.5630 - mse: 1457.5630\n",
            "Epoch 26/150\n",
            "1951/1951 [==============================] - 0s 216us/step - loss: 1484.7713 - mse: 1484.7714\n",
            "Epoch 27/150\n",
            "1951/1951 [==============================] - 0s 220us/step - loss: 1445.5867 - mse: 1445.5865\n",
            "Epoch 28/150\n",
            "1951/1951 [==============================] - 0s 227us/step - loss: 1454.9006 - mse: 1454.9009\n",
            "Epoch 29/150\n",
            "1951/1951 [==============================] - 0s 217us/step - loss: 1445.2591 - mse: 1445.2593\n",
            "Epoch 30/150\n",
            "1951/1951 [==============================] - 0s 224us/step - loss: 1411.1736 - mse: 1411.1737\n",
            "Epoch 31/150\n",
            "1951/1951 [==============================] - 0s 224us/step - loss: 1413.6817 - mse: 1413.6818\n",
            "Epoch 32/150\n",
            "1951/1951 [==============================] - 0s 222us/step - loss: 1455.5140 - mse: 1455.5140\n",
            "Epoch 33/150\n",
            "1951/1951 [==============================] - 0s 221us/step - loss: 1436.7738 - mse: 1436.7740\n",
            "Epoch 34/150\n",
            "1951/1951 [==============================] - 0s 223us/step - loss: 1423.9454 - mse: 1423.9454\n",
            "Epoch 35/150\n",
            "1951/1951 [==============================] - 0s 225us/step - loss: 1445.9505 - mse: 1445.9506\n",
            "Epoch 36/150\n",
            "1951/1951 [==============================] - 0s 222us/step - loss: 1432.3209 - mse: 1432.3208\n",
            "Epoch 37/150\n",
            "1951/1951 [==============================] - 0s 223us/step - loss: 1426.5671 - mse: 1426.5671\n",
            "Epoch 38/150\n",
            "1951/1951 [==============================] - 0s 217us/step - loss: 1383.7756 - mse: 1383.7754\n",
            "Epoch 39/150\n",
            "1951/1951 [==============================] - 0s 227us/step - loss: 1401.2348 - mse: 1401.2347\n",
            "Epoch 40/150\n",
            "1951/1951 [==============================] - 0s 216us/step - loss: 1430.3028 - mse: 1430.3027\n",
            "Epoch 41/150\n",
            "1951/1951 [==============================] - 0s 223us/step - loss: 1424.0259 - mse: 1424.0255\n",
            "Epoch 42/150\n",
            "1951/1951 [==============================] - 0s 218us/step - loss: 1404.6205 - mse: 1404.6205\n",
            "Epoch 43/150\n",
            "1951/1951 [==============================] - 0s 218us/step - loss: 1409.6293 - mse: 1409.6292\n",
            "Epoch 44/150\n",
            "1951/1951 [==============================] - 0s 225us/step - loss: 1409.2252 - mse: 1409.2252\n",
            "Epoch 45/150\n",
            "1951/1951 [==============================] - 0s 218us/step - loss: 1405.7052 - mse: 1405.7054\n",
            "Epoch 46/150\n",
            "1951/1951 [==============================] - 0s 227us/step - loss: 1408.1529 - mse: 1408.1528\n",
            "Epoch 47/150\n",
            "1951/1951 [==============================] - 0s 219us/step - loss: 1392.6838 - mse: 1392.6837\n",
            "Epoch 48/150\n",
            "1951/1951 [==============================] - 0s 224us/step - loss: 1408.0315 - mse: 1408.0314\n",
            "Epoch 49/150\n",
            "1951/1951 [==============================] - 0s 220us/step - loss: 1391.1509 - mse: 1391.1511\n",
            "Epoch 50/150\n",
            "1951/1951 [==============================] - 0s 219us/step - loss: 1384.0561 - mse: 1384.0562\n",
            "Epoch 51/150\n",
            "1951/1951 [==============================] - 0s 223us/step - loss: 1391.5494 - mse: 1391.5493\n",
            "Epoch 52/150\n",
            "1951/1951 [==============================] - 0s 219us/step - loss: 1380.3598 - mse: 1380.3599\n",
            "Epoch 53/150\n",
            "1951/1951 [==============================] - 0s 222us/step - loss: 1398.0824 - mse: 1398.0822\n",
            "Epoch 54/150\n",
            "1951/1951 [==============================] - 0s 224us/step - loss: 1390.5964 - mse: 1390.5963\n",
            "Epoch 55/150\n",
            "1951/1951 [==============================] - 0s 239us/step - loss: 1382.3299 - mse: 1382.3300\n",
            "Epoch 56/150\n",
            "1951/1951 [==============================] - 0s 221us/step - loss: 1392.2664 - mse: 1392.2664\n",
            "Epoch 57/150\n",
            "1951/1951 [==============================] - 0s 216us/step - loss: 1388.8627 - mse: 1388.8628\n",
            "Epoch 58/150\n",
            "1951/1951 [==============================] - 0s 233us/step - loss: 1385.3079 - mse: 1385.3079\n",
            "Epoch 59/150\n",
            "1951/1951 [==============================] - 0s 216us/step - loss: 1384.9968 - mse: 1384.9967\n",
            "Epoch 60/150\n",
            "1951/1951 [==============================] - 0s 226us/step - loss: 1372.8672 - mse: 1372.8671\n",
            "Epoch 61/150\n",
            "1951/1951 [==============================] - 0s 218us/step - loss: 1374.4175 - mse: 1374.4175\n",
            "Epoch 62/150\n",
            "1951/1951 [==============================] - 0s 219us/step - loss: 1390.7611 - mse: 1390.7610\n",
            "Epoch 63/150\n",
            "1951/1951 [==============================] - 0s 222us/step - loss: 1378.8277 - mse: 1378.8278\n",
            "Epoch 64/150\n",
            "1951/1951 [==============================] - 0s 223us/step - loss: 1345.7772 - mse: 1345.7772\n",
            "Epoch 65/150\n",
            "1951/1951 [==============================] - 0s 226us/step - loss: 1367.3145 - mse: 1367.3143\n",
            "Epoch 66/150\n",
            "1951/1951 [==============================] - 0s 218us/step - loss: 1372.2768 - mse: 1372.2766\n",
            "Epoch 67/150\n",
            "1951/1951 [==============================] - 0s 225us/step - loss: 1377.0891 - mse: 1377.0892\n",
            "Epoch 68/150\n",
            "1951/1951 [==============================] - 0s 234us/step - loss: 1336.8778 - mse: 1336.8779\n",
            "Epoch 69/150\n",
            "1951/1951 [==============================] - 0s 233us/step - loss: 1357.8045 - mse: 1357.8043\n",
            "Epoch 70/150\n",
            "1951/1951 [==============================] - 0s 226us/step - loss: 1387.2400 - mse: 1387.2400\n",
            "Epoch 71/150\n",
            "1951/1951 [==============================] - 0s 231us/step - loss: 1362.8453 - mse: 1362.8451\n",
            "Epoch 72/150\n",
            "1951/1951 [==============================] - 0s 228us/step - loss: 1347.7319 - mse: 1347.7321\n",
            "Epoch 73/150\n",
            "1951/1951 [==============================] - 0s 229us/step - loss: 1385.6314 - mse: 1385.6317\n",
            "Epoch 74/150\n",
            "1951/1951 [==============================] - 0s 233us/step - loss: 1351.5379 - mse: 1351.5380\n",
            "Epoch 75/150\n",
            "1951/1951 [==============================] - 0s 223us/step - loss: 1374.2787 - mse: 1374.2787\n",
            "Epoch 76/150\n",
            "1951/1951 [==============================] - 0s 230us/step - loss: 1353.5536 - mse: 1353.5536\n",
            "Epoch 77/150\n",
            "1951/1951 [==============================] - 0s 235us/step - loss: 1356.5104 - mse: 1356.5104\n",
            "Epoch 78/150\n",
            "1951/1951 [==============================] - 0s 239us/step - loss: 1365.1582 - mse: 1365.1581\n",
            "Epoch 79/150\n",
            "1951/1951 [==============================] - 0s 241us/step - loss: 1376.8282 - mse: 1376.8280\n",
            "Epoch 80/150\n",
            "1951/1951 [==============================] - 0s 222us/step - loss: 1336.2380 - mse: 1336.2378\n",
            "Epoch 81/150\n",
            "1951/1951 [==============================] - 0s 222us/step - loss: 1346.9552 - mse: 1346.9554\n",
            "Epoch 82/150\n",
            "1951/1951 [==============================] - 0s 220us/step - loss: 1357.9277 - mse: 1357.9277\n",
            "Epoch 83/150\n",
            "1951/1951 [==============================] - 0s 228us/step - loss: 1342.5802 - mse: 1342.5803\n",
            "Epoch 84/150\n",
            "1951/1951 [==============================] - 0s 217us/step - loss: 1383.6635 - mse: 1383.6633\n",
            "Epoch 85/150\n",
            "1951/1951 [==============================] - 0s 228us/step - loss: 1345.8253 - mse: 1345.8250\n",
            "Epoch 86/150\n",
            "1951/1951 [==============================] - 0s 216us/step - loss: 1356.0715 - mse: 1356.0715\n",
            "Epoch 87/150\n",
            "1951/1951 [==============================] - 0s 217us/step - loss: 1340.6720 - mse: 1340.6722\n",
            "Epoch 88/150\n",
            "1951/1951 [==============================] - 0s 225us/step - loss: 1341.7088 - mse: 1341.7089\n",
            "Epoch 89/150\n",
            "1951/1951 [==============================] - 0s 217us/step - loss: 1344.6949 - mse: 1344.6948\n",
            "Epoch 90/150\n",
            "1951/1951 [==============================] - 0s 224us/step - loss: 1322.7925 - mse: 1322.7926\n",
            "Epoch 91/150\n",
            "1951/1951 [==============================] - 0s 216us/step - loss: 1335.9539 - mse: 1335.9540\n",
            "Epoch 92/150\n",
            "1951/1951 [==============================] - 0s 229us/step - loss: 1343.3948 - mse: 1343.3948\n",
            "Epoch 93/150\n",
            "1951/1951 [==============================] - 0s 222us/step - loss: 1349.8591 - mse: 1349.8589\n",
            "Epoch 94/150\n",
            "1951/1951 [==============================] - 0s 218us/step - loss: 1341.1097 - mse: 1341.1099\n",
            "Epoch 95/150\n",
            "1951/1951 [==============================] - 0s 223us/step - loss: 1324.3948 - mse: 1324.3948\n",
            "Epoch 96/150\n",
            "1951/1951 [==============================] - 0s 218us/step - loss: 1299.1840 - mse: 1299.1842\n",
            "Epoch 97/150\n",
            "1951/1951 [==============================] - 0s 221us/step - loss: 1313.2100 - mse: 1313.2098\n",
            "Epoch 98/150\n",
            "1951/1951 [==============================] - 0s 217us/step - loss: 1358.2439 - mse: 1358.2443\n",
            "Epoch 99/150\n",
            "1951/1951 [==============================] - 0s 222us/step - loss: 1301.1794 - mse: 1301.1796\n",
            "Epoch 100/150\n",
            "1951/1951 [==============================] - 0s 222us/step - loss: 1358.1375 - mse: 1358.1377\n",
            "Epoch 101/150\n",
            "1951/1951 [==============================] - 0s 218us/step - loss: 1300.0565 - mse: 1300.0568\n",
            "Epoch 102/150\n",
            "1951/1951 [==============================] - 0s 226us/step - loss: 1323.8331 - mse: 1323.8333\n",
            "Epoch 103/150\n",
            "1951/1951 [==============================] - 0s 220us/step - loss: 1324.9031 - mse: 1324.9028\n",
            "Epoch 104/150\n",
            "1951/1951 [==============================] - 0s 224us/step - loss: 1338.2840 - mse: 1338.2842\n",
            "Epoch 105/150\n",
            "1951/1951 [==============================] - 0s 220us/step - loss: 1312.7246 - mse: 1312.7250\n",
            "Epoch 106/150\n",
            "1951/1951 [==============================] - 0s 232us/step - loss: 1343.8455 - mse: 1343.8457\n",
            "Epoch 107/150\n",
            "1951/1951 [==============================] - 0s 215us/step - loss: 1332.6321 - mse: 1332.6322\n",
            "Epoch 108/150\n",
            "1951/1951 [==============================] - 0s 217us/step - loss: 1340.0106 - mse: 1340.0106\n",
            "Epoch 109/150\n",
            "1951/1951 [==============================] - 0s 226us/step - loss: 1311.8220 - mse: 1311.8223\n",
            "Epoch 110/150\n",
            "1951/1951 [==============================] - 0s 217us/step - loss: 1303.0675 - mse: 1303.0675\n",
            "Epoch 111/150\n",
            "1951/1951 [==============================] - 0s 227us/step - loss: 1309.0354 - mse: 1309.0352\n",
            "Epoch 112/150\n",
            "1951/1951 [==============================] - 0s 218us/step - loss: 1330.2512 - mse: 1330.2510\n",
            "Epoch 113/150\n",
            "1951/1951 [==============================] - 0s 231us/step - loss: 1316.2429 - mse: 1316.2428\n",
            "Epoch 114/150\n",
            "1951/1951 [==============================] - 0s 219us/step - loss: 1319.7636 - mse: 1319.7637\n",
            "Epoch 115/150\n",
            "1951/1951 [==============================] - 0s 218us/step - loss: 1317.9972 - mse: 1317.9973\n",
            "Epoch 116/150\n",
            "1951/1951 [==============================] - 0s 224us/step - loss: 1298.8067 - mse: 1298.8068\n",
            "Epoch 117/150\n",
            "1951/1951 [==============================] - 0s 215us/step - loss: 1317.0837 - mse: 1317.0836\n",
            "Epoch 118/150\n",
            "1951/1951 [==============================] - 0s 228us/step - loss: 1316.0981 - mse: 1316.0979\n",
            "Epoch 119/150\n",
            "1951/1951 [==============================] - 0s 220us/step - loss: 1316.6104 - mse: 1316.6107\n",
            "Epoch 120/150\n",
            "1951/1951 [==============================] - 0s 230us/step - loss: 1328.1437 - mse: 1328.1439\n",
            "Epoch 121/150\n",
            "1951/1951 [==============================] - 0s 218us/step - loss: 1314.1859 - mse: 1314.1859\n",
            "Epoch 122/150\n",
            "1951/1951 [==============================] - 0s 216us/step - loss: 1320.1280 - mse: 1320.1279\n",
            "Epoch 123/150\n",
            "1951/1951 [==============================] - 0s 228us/step - loss: 1318.2315 - mse: 1318.2311\n",
            "Epoch 124/150\n",
            "1951/1951 [==============================] - 0s 231us/step - loss: 1305.9355 - mse: 1305.9353\n",
            "Epoch 125/150\n",
            "1951/1951 [==============================] - 0s 227us/step - loss: 1295.6227 - mse: 1295.6228\n",
            "Epoch 126/150\n",
            "1951/1951 [==============================] - 0s 217us/step - loss: 1328.3040 - mse: 1328.3040\n",
            "Epoch 127/150\n",
            "1951/1951 [==============================] - 0s 235us/step - loss: 1290.2566 - mse: 1290.2568\n",
            "Epoch 128/150\n",
            "1951/1951 [==============================] - 0s 218us/step - loss: 1287.6669 - mse: 1287.6666\n",
            "Epoch 129/150\n",
            "1951/1951 [==============================] - 0s 219us/step - loss: 1303.4322 - mse: 1303.4323\n",
            "Epoch 130/150\n",
            "1951/1951 [==============================] - 0s 223us/step - loss: 1317.5382 - mse: 1317.5381\n",
            "Epoch 131/150\n",
            "1951/1951 [==============================] - 0s 216us/step - loss: 1284.6089 - mse: 1284.6088\n",
            "Epoch 132/150\n",
            "1951/1951 [==============================] - 0s 228us/step - loss: 1332.6770 - mse: 1332.6770\n",
            "Epoch 133/150\n",
            "1951/1951 [==============================] - 0s 220us/step - loss: 1302.6836 - mse: 1302.6836\n",
            "Epoch 134/150\n",
            "1951/1951 [==============================] - 0s 231us/step - loss: 1278.1293 - mse: 1278.1296\n",
            "Epoch 135/150\n",
            "1951/1951 [==============================] - 0s 218us/step - loss: 1323.9912 - mse: 1323.9912\n",
            "Epoch 136/150\n",
            "1951/1951 [==============================] - 0s 219us/step - loss: 1274.8137 - mse: 1274.8136\n",
            "Epoch 137/150\n",
            "1951/1951 [==============================] - 0s 218us/step - loss: 1331.3559 - mse: 1331.3557\n",
            "Epoch 138/150\n",
            "1951/1951 [==============================] - 0s 217us/step - loss: 1315.9050 - mse: 1315.9049\n",
            "Epoch 139/150\n",
            "1951/1951 [==============================] - 0s 222us/step - loss: 1297.8613 - mse: 1297.8611\n",
            "Epoch 140/150\n",
            "1951/1951 [==============================] - 0s 225us/step - loss: 1296.2735 - mse: 1296.2738\n",
            "Epoch 141/150\n",
            "1951/1951 [==============================] - 0s 224us/step - loss: 1318.3716 - mse: 1318.3717\n",
            "Epoch 142/150\n",
            "1951/1951 [==============================] - 0s 215us/step - loss: 1302.8149 - mse: 1302.8148\n",
            "Epoch 143/150\n",
            "1951/1951 [==============================] - 0s 218us/step - loss: 1314.9387 - mse: 1314.9387\n",
            "Epoch 144/150\n",
            "1951/1951 [==============================] - 0s 219us/step - loss: 1270.0667 - mse: 1270.0667\n",
            "Epoch 145/150\n",
            "1951/1951 [==============================] - 0s 216us/step - loss: 1303.1671 - mse: 1303.1670\n",
            "Epoch 146/150\n",
            "1951/1951 [==============================] - 0s 226us/step - loss: 1292.7326 - mse: 1292.7325\n",
            "Epoch 147/150\n",
            "1951/1951 [==============================] - 0s 219us/step - loss: 1266.5013 - mse: 1266.5011\n",
            "Epoch 148/150\n",
            "1951/1951 [==============================] - 0s 219us/step - loss: 1316.3505 - mse: 1316.3507\n",
            "Epoch 149/150\n",
            "1951/1951 [==============================] - 0s 216us/step - loss: 1302.4407 - mse: 1302.4408\n",
            "Epoch 150/150\n",
            "1951/1951 [==============================] - 0s 221us/step - loss: 1282.7589 - mse: 1282.7585\n"
          ],
          "name": "stdout"
        }
      ]
    },
    {
      "cell_type": "code",
      "metadata": {
        "colab_type": "code",
        "id": "mfWKoCvSjRgs",
        "colab": {}
      },
      "source": [
        "import matplotlib.pyplot as plt\n",
        "%matplotlib inline"
      ],
      "execution_count": 0,
      "outputs": []
    },
    {
      "cell_type": "code",
      "metadata": {
        "colab_type": "code",
        "id": "18yZREtVkCHU",
        "outputId": "5ece219c-7526-4ac1-cde8-ebcf70005e6a",
        "colab": {
          "base_uri": "https://localhost:8080/",
          "height": 282
        }
      },
      "source": [
        "plt.plot(Y_test,'b')\n",
        "plt.plot(pred,'r')"
      ],
      "execution_count": 20,
      "outputs": [
        {
          "output_type": "execute_result",
          "data": {
            "text/plain": [
              "[<matplotlib.lines.Line2D at 0x7fc7dd3bed30>]"
            ]
          },
          "metadata": {
            "tags": []
          },
          "execution_count": 20
        },
        {
          "output_type": "display_data",
          "data": {
            "image/png": "[encoded data removed]",
            "text/plain": [
              "<Figure size 432x288 with 1 Axes>"
            ]
          },
          "metadata": {
            "tags": [],
            "needs_background": "light"
          }
        }
      ]
    },
    {
      "cell_type": "code",
      "metadata": {
        "colab_type": "code",
        "id": "s8lbE__GEp53",
        "outputId": "f156fb00-3f43-42a9-e311-9aa18535850a",
        "colab": {
          "base_uri": "https://localhost:8080/",
          "height": 282
        }
      },
      "source": [
        "plt.plot(Y)"
      ],
      "execution_count": 21,
      "outputs": [
        {
          "output_type": "execute_result",
          "data": {
            "text/plain": [
              "[<matplotlib.lines.Line2D at 0x7fc77e036390>]"
            ]
          },
          "metadata": {
            "tags": []
          },
          "execution_count": 21
        },
        {
          "output_type": "display_data",
          "data": {
            "image/png": "[encoded data removed]",
            "text/plain": [
              "<Figure size 432x288 with 1 Axes>"
            ]
          },
          "metadata": {
            "tags": [],
            "needs_background": "light"
          }
        }
      ]
    }
  ]
}